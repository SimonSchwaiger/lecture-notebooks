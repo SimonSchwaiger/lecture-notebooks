{
 "cells": [
  {
   "cell_type": "markdown",
   "id": "fd5da4a5-889d-4c60-9741-34122a96e402",
   "metadata": {},
   "source": [
    "# Debugging using Large Language Models (LLMs) 1\n",
    "\n",
    "In the code cell below, you will find a function that has its description and comments removed. The function is related to mobile robotics. It is your task to find out, what the function actually does in order to successfully call the function in your own program.\n",
    "\n",
    "### Understanding the Function\n",
    "\n",
    "First, open [ChatGPT](https://chat.openai.com/). You can initiate a conversation about this function by clicking the *New chat* button in the upper left corner and copying the function into the text input field. Additionally, ask the LLM what this Python function does.\n",
    "\n",
    "*Hint: You can run notebook cells by clicking inside them and pressing the play button in the top bar. Alternatively, you can use the `Shift`+`Enter` shortcut to run the currently selected cell.*"
   ]
  },
  {
   "cell_type": "code",
   "execution_count": 2,
   "id": "fa12a67e-d21e-41cd-8498-59357ceb33dd",
   "metadata": {
    "scrolled": true
   },
   "outputs": [],
   "source": [
    "import numpy as np\n",
    "\n",
    "def forwardKinematics(vt, wt, lastPose, dt, dtype=np.float64, addNoise=True):\n",
    "    if not isinstance(lastPose, np.ndarray): \n",
    "        lastPose = np.array(lastPose, dtype=dtype)\n",
    "        assert lastPose.shape == (3,), \"Received pose in wrong format! Pose needs to be provided in form [x,y,theta]!\"\n",
    "    if wt == 0: wt = np.finfo(dtype).tiny\n",
    "    if addNoise == True:\n",
    "        wt *= 1 + (np.random.random()-0.5)/20 # -> Error between +/- 2.5%\n",
    "        vt *= 1 + (np.random.random()-0.5)/20 # -> Error between +/- 2.5%\n",
    "        dt *= 1 + (np.random.random()-0.5)/20 # -> Error between +/- 2.5%\n",
    "    vtwt = vt/wt\n",
    "    _, _, theta = lastPose\n",
    "    return lastPose + np.array([\n",
    "        -vtwt*np.sin(theta) + vtwt*np.sin(theta + (wt*dt)),\n",
    "        vtwt*np.cos(theta) - vtwt*np.cos(theta + (wt*dt)),\n",
    "        wt*dt\n",
    "    ], dtype=dtype)"
   ]
  },
  {
   "cell_type": "markdown",
   "id": "268a8a7f-40ae-41c1-b3fa-e13474deaa19",
   "metadata": {},
   "source": [
    "##### Response:\n",
    "\n",
    "<div class=\"llmresponse\">\n",
    "This Python function appears to implement the forward kinematics for a differential drive robot. The purpose of forward kinematics is to compute the robot's pose (position and orientation) in the world based on its velocity and angular velocity inputs.\n",
    "</div>\n",
    "\n",
    "# "
   ]
  },
  {
   "cell_type": "markdown",
   "id": "068df659-d098-4907-9d70-f0fdae74b73c",
   "metadata": {},
   "source": [
    "The LLM provides a description of what the function implements. You can keep the conversation up, by asking follow-up questions. For example, let's ask it, what the term *forward kinematics* means in context of mobile robots! You should get a response similar response as shown in the next cell."
   ]
  },
  {
   "cell_type": "markdown",
   "id": "fb35135d-ecb5-4158-a1f8-568d3747f6ab",
   "metadata": {},
   "source": [
    "##### Response:\n",
    "\n",
    "<div class=\"llmresponse\">\n",
    "In the context of mobile robots, forward kinematics specifically refers to determining the position and orientation of the robot in its environment based on its motion parameters, typically linear and angular velocities. Mobile robots, such as differential drive robots or holonomic robots, use their wheels or other locomotion mechanisms to move around.\n",
    "</div>\n",
    "\n",
    "# "
   ]
  },
  {
   "cell_type": "markdown",
   "id": "8639d07f-580b-4471-9d84-afae468ccc50",
   "metadata": {},
   "source": [
    "Apart from asking about the a function's theoretical background, you can also ask the LLM questions about the code. For example, let's ask it what this function's return value looks like.\n",
    "\n",
    "##### Response:\n",
    "\n",
    "<div class=\"llmresponse\">\n",
    "The return value of the forwardKinematics function is a NumPy array representing the updated pose of the robot after the specified motion. The array has the same shape and data type as the input lastPose.\n",
    "\n",
    "The pose array is calculated based on the differential drive kinematics equations, incorporating the provided linear velocity (vt), angular velocity (wt), the last known pose (lastPose), and the time step (dt). The resulting pose represents the new position and orientation of the robot after the simulated motion.\n",
    "\n",
    "For example, if you call the function like this:\n",
    "\n",
    "\n",
    "resulting_pose = forwardKinematics(1.0, 0.5, np.array([0.0, 0.0, 0.0]), 0.1)\n",
    "\n",
    "\n",
    "The resulting_pose might be a NumPy array with values that reflect the updated position and orientation of the robot after moving forward with a linear velocity of 1.0, an angular velocity of 0.5, starting from an initial pose of [0.0, 0.0, 0.0], and a time step of 0.1. The specific values will depend on the input parameters and any random noise introduced if addNoise is set to True.\n",
    "</div>\n",
    "\n",
    "# "
   ]
  },
  {
   "cell_type": "markdown",
   "id": "da85078a-95f5-4d07-956e-1dc8c020ff02",
   "metadata": {},
   "source": [
    "While the answer tells us that the return value is a NumPy array, it does not tell us what shape this array will take. Therefore, we need to be more specific with our questions. When asked how long the returned array is, we finally get the response we were looking for:\n",
    "\n",
    "##### Response:\n",
    "\n",
    "<div class=\"llmresponse\">\n",
    "The returned array has the same length as the lastPose array, which is 3 in this case. The lastPose array represents the pose of the robot in the form [x, y, theta], where:\n",
    "\n",
    "- x: The x-coordinate of the robot's position.\n",
    "- y: The y-coordinate of the robot's position.\n",
    "- theta: The orientation of the robot.\n",
    "  \n",
    "</div>\n",
    "\n",
    "# "
   ]
  },
  {
   "cell_type": "markdown",
   "id": "9cf4618a-5952-4a93-a1d2-575cc84d6d35",
   "metadata": {},
   "source": [
    "Now that we somewhat understand the provided code's functionality, we can ask the LLM to add code comments in order to make the function easier to understand.\n",
    "\n",
    "##### Prompt:\n",
    "\n",
    "<div class=\"llmresponse\">\n",
    "Can you add code comments to the function to make it easier to understand?\n",
    "</div>\n",
    "\n",
    "##### Response:\n",
    "\n",
    "<div class=\"llmresponse\">\n",
    "Certainly! Here's the original function with added comments to explain each section:\n",
    "</div>\n",
    "\n",
    "```python\n",
    "def forwardKinematics(vt, wt, lastPose, dt, dtype=np.float64, addNoise=True):\n",
    "    \"\"\"\n",
    "    Calculate forward kinematics for a differential drive robot.\n",
    "\n",
    "    Parameters:\n",
    "    - vt: Linear velocity of the robot.\n",
    "    - wt: Angular velocity of the robot.\n",
    "    - lastPose: Last known pose of the robot, [x, y, theta].\n",
    "    - dt: Time step.\n",
    "    - dtype: Data type for numerical precision (default is np.float64).\n",
    "    - addNoise: Boolean flag indicating whether to add process noise (default is True).\n",
    "\n",
    "    Returns:\n",
    "    Updated pose of the robot after forward kinematics, [x, y, theta].\n",
    "    \"\"\"\n",
    "    # Check input formatting\n",
    "    if not isinstance(lastPose, np.ndarray): \n",
    "        lastPose = np.array(lastPose, dtype=dtype)\n",
    "        assert lastPose.shape == (3,), \"Received pose in wrong format! Pose needs to be provided in form [x, y, theta]!\"\n",
    "\n",
    "    # Set omega to smallest possible nonzero value in case it is zero to avoid division by zero\n",
    "    if wt == 0:\n",
    "        wt = np.finfo(dtype).tiny\n",
    "\n",
    "    # Add optional process noise\n",
    "    if addNoise:\n",
    "        wt *= 1 + (np.random.random() - 0.5) / 20  # Error between +/- 2.5%\n",
    "        vt *= 1 + (np.random.random() - 0.5) / 20  # Error between +/- 2.5%\n",
    "        dt *= 1 + (np.random.random() - 0.5) / 20  # Error between +/- 2.5%\n",
    "\n",
    "    # Calculate the ratio of linear velocity to angular velocity\n",
    "    vtwt = vt / wt\n",
    "\n",
    "    # Extract the theta value from the last pose\n",
    "    _, _, theta = lastPose\n",
    "\n",
    "    # Calculate the new pose based on differential drive kinematics equations\n",
    "    updatedPose = lastPose + np.array([\n",
    "        -vtwt * np.sin(theta) + vtwt * np.sin(theta + (wt * dt)),\n",
    "        vtwt * np.cos(theta) - vtwt * np.cos(theta + (wt * dt)),\n",
    "        wt * dt\n",
    "    ], dtype=dtype)\n",
    "\n",
    "    return updatedPose\n",
    "```\n",
    "\n",
    "<div class=\"llmresponse\">\n",
    "These comments should help clarify the purpose and functionality of each part of the function.\n",
    "</div>\n",
    "\n",
    "# "
   ]
  },
  {
   "cell_type": "markdown",
   "id": "b535c03a-de35-420a-ab8b-5d743793fc43",
   "metadata": {},
   "source": [
    "### Examining the function's interface\n",
    "\n",
    "Now we have a basic understanding of what the function actually does. The next step is to find out, how we successfully call the function. Directly asking the LLM, how to call the function gives us the following answer:\n",
    "\n",
    "##### Response:\n",
    "\n",
    "<div class=\"llmresponse\">\n",
    "The function forwardKinematics takes the following inputs:\n",
    "\n",
    "1. vt: Linear velocity of the robot.\n",
    "2. wt: Angular velocity of the robot.\n",
    "3. lastPose: The last known pose of the robot, in the form of a NumPy array with shape (3,) representing [x, y, theta].\n",
    "4. dt: Time step or duration of the motion.\n",
    "5. dtype: Data type for NumPy arrays (default is np.float64).\n",
    "6. addNoise: A boolean flag indicating whether to add random noise to the velocities and time step (default is True).\n",
    "\n",
    "You would call the function like this:\n",
    "</div>\n",
    "\n",
    "```python\n",
    "resulting_pose = forwardKinematics(vt_value, wt_value, last_pose_array, dt_value)\n",
    "```\n",
    "<div class=\"llmresponse\">\n",
    "Where vt_value, wt_value, last_pose_array, and dt_value are the actual values you want to use as input for the function.\n",
    "</div>\n",
    "\n",
    "# "
   ]
  },
  {
   "cell_type": "markdown",
   "id": "b6214f1b-4b53-4637-8bb0-e023ae32edf5",
   "metadata": {},
   "source": [
    "However, this does not tell us what values we can set as the function arguments. By asking how to format for example the *last_pose_array* argument, the LLM shows us, how to format the arguments:\n",
    "\n",
    "##### Response:\n",
    "\n",
    "<div class=\"llmresponse\">\n",
    "\n",
    "To initialize the last_pose_array, you need to provide the initial pose of the robot in the form of [x, y, theta]. You can create a NumPy array representing the initial pose like this:\n",
    "</div>\n",
    "\n",
    "```python\n",
    "import numpy as np\n",
    "\n",
    "initial_pose = [x_value, y_value, theta_value]\n",
    "last_pose_array = np.array(initial_pose, dtype=np.float64)\n",
    "```\n",
    "\n",
    "<div class=\"llmresponse\">\n",
    "Replace x_value, y_value, and theta_value with the actual initial values for the robot's position and orientation. For example:\n",
    "</div>\n",
    "\n",
    "```python\n",
    "x_value = 0.0\n",
    "y_value = 0.0\n",
    "theta_value = 0.0\n",
    "\n",
    "last_pose_array = np.array([x_value, y_value, theta_value], dtype=np.float64)\n",
    "```\n",
    "\n",
    "<div class=\"llmresponse\">\n",
    "Now, you can use last_pose_array as an argument when calling the forwardKinematics function.\n",
    "</div>\n",
    "\n",
    "# "
   ]
  },
  {
   "cell_type": "markdown",
   "id": "634a7e95-d558-4254-b5de-8da9f5c538d6",
   "metadata": {},
   "source": [
    "### Exercise: Calling the function\n",
    "\n",
    "Complete the next code cell by successfully calling the function *fowardKinematics* with arbitrary arguments and print out the return value. Let the LLM guide you in what values are provided as the function's arguments!"
   ]
  },
  {
   "cell_type": "code",
   "execution_count": null,
   "id": "e8762a3b-65f8-4a6e-b7d0-9c9d41f629a5",
   "metadata": {},
   "outputs": [],
   "source": [
    "import numpy as np\n",
    "\n",
    "def forwardKinematics(vt, wt, lastPose, dt, dtype=np.float64, addNoise=True):\n",
    "    if not isinstance(lastPose, np.ndarray): \n",
    "        lastPose = np.array(lastPose, dtype=dtype)\n",
    "        assert lastPose.shape == (3,), \"Received pose in wrong format! Pose needs to be provided in form [x,y,theta]!\"\n",
    "    if wt == 0: wt = np.finfo(dtype).tiny\n",
    "    if addNoise == True:\n",
    "        wt *= 1 + (np.random.random()-0.5)/20 # -> Error between +/- 2.5%\n",
    "        vt *= 1 + (np.random.random()-0.5)/20 # -> Error between +/- 2.5%\n",
    "        dt *= 1 + (np.random.random()-0.5)/20 # -> Error between +/- 2.5%\n",
    "    vtwt = vt/wt\n",
    "    _, _, theta = lastPose\n",
    "    return lastPose + np.array([\n",
    "        -vtwt*np.sin(theta) + vtwt*np.sin(theta + (wt*dt)),\n",
    "        vtwt*np.cos(theta) - vtwt*np.cos(theta + (wt*dt)),\n",
    "        wt*dt\n",
    "    ], dtype=dtype)\n",
    "\n",
    "\n",
    "#############################################\n",
    "####    Your function call goes here:    ####\n",
    "\n"
   ]
  },
  {
   "cell_type": "markdown",
   "id": "a2f06088-cb74-46bd-a44f-80e4252e1d04",
   "metadata": {},
   "source": [
    "*Please ignore the next code cell. It is only used to style the LLM's responses throughout this notebook.*"
   ]
  },
  {
   "cell_type": "code",
   "execution_count": 2,
   "id": "c2ba25b0-fb91-4ac3-980e-3f5d667a7f53",
   "metadata": {},
   "outputs": [
    {
     "data": {
      "text/html": [
       "<style>\n",
       "\n",
       "div.llmresponse {\n",
       "    width: 90%;\n",
       "    padding-right: 28px;\n",
       "    padding-left: 28px;\n",
       "    color: gray;\n",
       "    font-style: italic;\n",
       "}\n",
       "</style>\n"
      ],
      "text/plain": [
       "<IPython.core.display.HTML object>"
      ]
     },
     "metadata": {},
     "output_type": "display_data"
    }
   ],
   "source": [
    "%%html\n",
    "<style>\n",
    "\n",
    "div.llmresponse {\n",
    "    width: 90%;\n",
    "    padding-right: 28px;\n",
    "    padding-left: 28px;\n",
    "    color: gray;\n",
    "    font-style: italic;\n",
    "}\n",
    "</style>"
   ]
  },
  {
   "cell_type": "code",
   "execution_count": null,
   "id": "4c1aaace-7d58-4feb-94d9-46185577879b",
   "metadata": {},
   "outputs": [],
   "source": []
  }
 ],
 "metadata": {
  "kernelspec": {
   "display_name": "Python 3 (ipykernel)",
   "language": "python",
   "name": "python3"
  },
  "language_info": {
   "codemirror_mode": {
    "name": "ipython",
    "version": 3
   },
   "file_extension": ".py",
   "mimetype": "text/x-python",
   "name": "python",
   "nbconvert_exporter": "python",
   "pygments_lexer": "ipython3",
   "version": "3.8.10"
  }
 },
 "nbformat": 4,
 "nbformat_minor": 5
}
