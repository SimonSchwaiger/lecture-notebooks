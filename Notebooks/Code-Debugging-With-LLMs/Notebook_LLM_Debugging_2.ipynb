{
 "cells": [
  {
   "cell_type": "markdown",
   "id": "85c2d195-489d-4652-ae2c-4da83f306d94",
   "metadata": {},
   "source": [
    "# Debugging using Large Language Models (LLMs) 2\n",
    "\n",
    "The next code cell includes some code without comments or function/class description. The code is related to mobile robotics and ROS. Follow the same approach as in *Debugging using Large Language Models 1* to determine the following aspects:\n",
    "\n",
    "- What functionality does the code implement?\n",
    "- What do the parameters in lines 6-10 do?\n",
    "- What do the cell's printed values mean?\n",
    "\n",
    "*Hint: Try not to provide the LLM with the whole code at once. Current LLMs have trouble understanding long code segments. Alternatively, copy the code into the LLM's prompt in pieces.*"
   ]
  },
  {
   "cell_type": "code",
   "execution_count": null,
   "id": "5ba1e192-0b0f-4ae9-9433-21e04138a7ab",
   "metadata": {},
   "outputs": [],
   "source": [
    "import numpy as np\n",
    "import time\n",
    "\n",
    "publishToROS = False\n",
    "dt = 0.1 # seconds\n",
    "simulationTime = 20 # seconds\n",
    "vt = 0.6 # m/s\n",
    "wt = 0.8 # rad/s\n",
    "\n",
    "def forwardKinematics(vt, wt, lastPose, dt, dtype=np.float32, addNoise=True):\n",
    "    if not isinstance(lastPose, np.ndarray): \n",
    "        lastPose = np.array(lastPose, dtype=dtype)\n",
    "        assert lastPose.shape == (3,), \"Received pose in wrong format! Pose needs to be provided in form [x,y,theta]!\"\n",
    "    if wt == 0: wt = np.finfo(dtype).tiny\n",
    "    if addNoise == True:\n",
    "        wt *= 1 + (np.random.random()-0.5)/20 # -> Error between +/- 2.5%\n",
    "        vt *= 1 + (np.random.random()-0.5)/20 # -> Error between +/- 2.5%\n",
    "        dt *= 1 + (np.random.random()-0.5)/20 # -> Error between +/- 2.5%\n",
    "    vtwt = vt/wt\n",
    "    _, _, theta = lastPose\n",
    "    return lastPose + np.array([\n",
    "        -vtwt*np.sin(theta) + vtwt*np.sin(theta + (wt*dt)),\n",
    "        vtwt*np.cos(theta) - vtwt*np.cos(theta + (wt*dt)),\n",
    "        wt*dt\n",
    "    ], dtype=dtype)\n",
    "\n",
    "class simulator:\n",
    "    def __init__(self):\n",
    "        self.robotPose = np.array([0,0,0], dtype=np.float32)\n",
    "        \n",
    "        if publishToROS == True:\n",
    "            pass\n",
    "\n",
    "    def update(self, vt, wt):\n",
    "        newPose = forwardKinematics(vt, wt, self.robotPose, dt)\n",
    "        self.robotPose = newPose\n",
    "        \n",
    "        if publishToROS == True:\n",
    "            pose_msg = PointStamped()\n",
    "            pose_msg.header.frame_id = \"map\"\n",
    "            pose_msg.point.x = self.robotPose[0]\n",
    "            pose_msg.point.y = self.robotPose[1]\n",
    "            self.pose_publisher.publish(pose_msg)\n",
    "\n",
    "simulator_instance = simulator()\n",
    "\n",
    "for i in range(int(simulationTime/dt)):\n",
    "    simulator_instance.update(vt, wt)\n",
    "    if i%int(1/dt) == 0: print(simulator_instance.robotPose)\n",
    "    time.sleep(dt)"
   ]
  },
  {
   "cell_type": "markdown",
   "id": "fdfe1d4a-f063-433f-9745-14587a24786b",
   "metadata": {},
   "source": [
    "### Publishing to ROS\n",
    "\n",
    "When you are comfortable with the code cell above, perform the following steps:\n",
    "\n",
    "- Open a terminal and start ROS using the `roscore` command.\n",
    "- Open a second terminal and start an RViz visualisation using `rosrun rviz rviz`.\n",
    "\n",
    "Now change `publishToROS` in the code cell above to `True` and run the cell. It will cause an error. Ask the LLM what is wrong with the code and how to fix it. Pay special attention to what has been changed by the LLM, since LLMs tend to introduce new errors when changing longer code segments.\n",
    "\n",
    "*Hint: You know that you are on the right track when the LLM adds required ROS imports.*"
   ]
  },
  {
   "cell_type": "code",
   "execution_count": null,
   "id": "66da8c88-5bd2-490e-9e71-1c96885e76e0",
   "metadata": {},
   "outputs": [],
   "source": [
    "# You can put the improved code in this cell\n",
    "\n"
   ]
  },
  {
   "cell_type": "markdown",
   "id": "1ec3a85b-60b0-4a81-958c-e64c157dd2dc",
   "metadata": {},
   "source": [
    "After having completed the code, you should be able to run the cell with `publishToROS` set to `True`. While the cell is running, click on the *Add* button in RViz and click on the *By topic* tab. Select the topic that you are publishing on (probably something like *robot_pose*) and click *OK*. You should now see the output of `forwardKinematics` visualised in ROS!\n",
    "\n",
    "### Visualisation as Pose\n",
    "\n",
    "After having successfully improved the code to publish to ROS, we will examine, that only two of the three calculated values are actually published to ROS (see lines 41 and 42 in this notebook's first code cell). In order to also publish the robot's rotation, the code has to be altered to publish a *PoseStamped* instead of a *PointStamped*. Use the LLM and alter the code so that the robot pose is published instead of the position.\n",
    "\n",
    "*Hint: You will have to restart the roscore, RViz and the notebook kernel when changing the topic's message type. This is done by clicking on __Kernel__ $\\to$ __Restart Kernel__ and stopping the terminals running roscore and RViz using the shortcut `Ctrl`+`c`.*\n"
   ]
  },
  {
   "cell_type": "code",
   "execution_count": null,
   "id": "425adab5-9699-41e2-950f-f5b51e21da02",
   "metadata": {},
   "outputs": [],
   "source": [
    "# You can put the improved code in this cell\n",
    "\n"
   ]
  },
  {
   "cell_type": "markdown",
   "id": "7ff3eb82-110f-4467-a72b-580072d61fdc",
   "metadata": {},
   "source": [
    "After having successfully altered the code, RViz will visualise an arrow indicating a simulated robot's pose. By default, the robot drives in a circle, however, you can change the linear (*vt*) and angular (*wt*) velocities and observe how the robot's trajectory changes.\n",
    "\n",
    "If mobile robot kinematics have peaked your interest, please have a look at chapter 5 in S. *Thrun, (2005), Probabilistic Robotics, MIT Press*."
   ]
  },
  {
   "cell_type": "code",
   "execution_count": null,
   "id": "eb5c607b-e42c-40be-85bc-363c867473d0",
   "metadata": {},
   "outputs": [],
   "source": []
  }
 ],
 "metadata": {
  "kernelspec": {
   "display_name": "Python 3 (ipykernel)",
   "language": "python",
   "name": "python3"
  },
  "language_info": {
   "codemirror_mode": {
    "name": "ipython",
    "version": 3
   },
   "file_extension": ".py",
   "mimetype": "text/x-python",
   "name": "python",
   "nbconvert_exporter": "python",
   "pygments_lexer": "ipython3",
   "version": "3.8.10"
  }
 },
 "nbformat": 4,
 "nbformat_minor": 5
}
