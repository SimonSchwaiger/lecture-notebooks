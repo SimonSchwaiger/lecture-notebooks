{
 "cells": [
  {
   "cell_type": "markdown",
   "id": "18ab4a62-e7ad-4c37-9144-846a3565389d",
   "metadata": {},
   "source": [
    "# Python Zero to Hero\n",
    "\n",
    "This notebook presents basic concepts of the Python 3 programming language for use in sensor-based robot control. The sections are based on [W3 Schools Python Tutorial](https://www.w3schools.com/python/) with some changes to focus the tutorial on what is usually needed for my courses. If started in interactive mode, you will be able to run and modify the code blocks provided as examples.\n",
    "\n",
    "**If you need a more detailled breakdown of a certain Python feature, please refer to the [full W3 Schools Tutorial](https://www.w3schools.com/python/default.asp)**\n",
    "\n",
    "# Table of Contents\n",
    "* [**Installation and Basic Syntax**](#basics)\n",
    "    - [Hello World (Printing)](#print)\n",
    "    - [Indentations](#indentations)\n",
    "    - [Package Management](#pip)\n",
    "    - [Types](#types)\n",
    "    - [Conditions](#if)\n",
    "    - [Lists, Dictionaries, Tuples and Sets](#iterators)\n",
    "    - [Loops](#loops)\n",
    "* [**NumPy**](#numpy)\n",
    "* [**Data Visualisation**](#data-visualisation)\n",
    "* [**Data Manipulation**](#data-manipulation)\n",
    "* [**Robot Operating System**](#ros)\n",
    "\n",
    "## Installation and Basic Syntax <a class=\"anchor\" id=\"basics\"></a>\n",
    "\n",
    "**If you run this notebook in interactive mode, you can skip installation for testing out the code blocks presented here.**\n",
    "\n",
    "Python comes already installed with most current Linux distributions and can be accessed by opening a terminal and using the command `python3` (although more modern distributions also accept the `python` command to start Python 3). This will open an interactive promt, that allows you to interactively run Python code and see terminal output in real-time. Files can be executed by running `python3 pathToFile.py`.\n",
    "\n",
    "If your Linux distribution does not come with python or you work in Windows, please refer to the [official guide](https://wiki.python.org/moin/BeginnersGuide/Download) on how to install Python.\n",
    "\n",
    "As an alternative to installing Python system-wide, you can also use an IDE to directly install and run Python. Here is a [guide](https://code.visualstudio.com/docs/python/python-tutorial) on how to do that in Visual Studio Code.\n",
    "\n",
    "### Hello World <a class=\"anchor\" id=\"print\"></a>\n",
    "\n",
    "The `print` command allows you to output text directly to the terminal. A `#` at the beginning of a line comments out that whole line, while sections enclosed in `\"\"\"` are multi-line comments."
   ]
  },
  {
   "cell_type": "code",
   "execution_count": 1,
   "id": "25beb47f-1830-4642-ab2e-d63e66c496c3",
   "metadata": {},
   "outputs": [
    {
     "name": "stdout",
     "output_type": "stream",
     "text": [
      "Hello World!\n"
     ]
    }
   ],
   "source": [
    "# This is a single-line comment\n",
    "\"\"\"This comment\n",
    "goes over multiple lines!\n",
    "\"\"\"\n",
    "\n",
    "print(\"Hello World!\")"
   ]
  },
  {
   "cell_type": "markdown",
   "id": "ea85b99f-2bd5-44d5-a99f-ed8d72e3f090",
   "metadata": {},
   "source": [
    "We can also print variables."
   ]
  },
  {
   "cell_type": "code",
   "execution_count": 2,
   "id": "d13bdc3e-b15a-47d7-b7c2-92ab524712e8",
   "metadata": {},
   "outputs": [
    {
     "name": "stdout",
     "output_type": "stream",
     "text": [
      "Variable1's value is:\n",
      "100\n"
     ]
    }
   ],
   "source": [
    "# This cell prints content of variable1\n",
    "variable1 = 100\n",
    "print(\"Variable1's value is:\")\n",
    "print(variable1)"
   ]
  },
  {
   "cell_type": "markdown",
   "id": "53a733d8-11b9-470b-a5e7-f1a8755eb2f7",
   "metadata": {},
   "source": [
    "Instead of printing just a variable at once, we can also format a string to include multiple variables with different formatting. A straight-forward option is to use the `.format()` method. This is a method of the `string` class and can be directly applied to the string in the `print` call. Variable placeholders are defined using `{}`, while variables are provided as arguments to the `.format()` method.\n",
    "\n",
    "A complete list of string formatting options can be found in [this guide](https://realpython.com/python-f-strings/)."
   ]
  },
  {
   "cell_type": "code",
   "execution_count": 3,
   "id": "bcdfbb51-6395-44f0-a1bb-a6d5cffa5534",
   "metadata": {
    "tags": []
   },
   "outputs": [
    {
     "name": "stdout",
     "output_type": "stream",
     "text": [
      "Robot Turtlebot has measured a value of 3.1415 after 100 seconds of operation\n"
     ]
    }
   ],
   "source": [
    "# This cell outputs formatted text about a robot's sensor value\n",
    "robotName = 'Turtlebot'\n",
    "time = 100\n",
    "value = 3.1415\n",
    "\n",
    "print(\"Robot {} has measured a value of {} after {} seconds of operation\".format(robotName, value, time))"
   ]
  },
  {
   "cell_type": "markdown",
   "id": "7d26ed8b-ce7d-4b6b-9fd1-f7a9c1d071a6",
   "metadata": {},
   "source": [
    "Formatting options for variables can be included within the curly brackets. We can limit the number of displayed decimal points:"
   ]
  },
  {
   "cell_type": "code",
   "execution_count": 4,
   "id": "b6c94282-3e71-41e6-86d0-b271188cbf48",
   "metadata": {},
   "outputs": [
    {
     "name": "stdout",
     "output_type": "stream",
     "text": [
      "Rounded value is 3.141500\n"
     ]
    }
   ],
   "source": [
    "# This cell outputs formatted text about a robot's sensor value\n",
    "value = 3.1415\n",
    "\n",
    "print(\"Rounded value is {:2f}\".format(value))"
   ]
  },
  {
   "cell_type": "markdown",
   "id": "0eb4e608-1535-4496-8afe-9b0c93074350",
   "metadata": {},
   "source": [
    "### Indentations <a class=\"anchor\" id=\"indentations\"></a>\n",
    "\n",
    "Unlike other programming languages, indentations are part of Python's syntax. They are used to indicate blocks of code, in a similar manner as curly brackets would in C or C++. Indentations as well as line endings need to be placed intentionally in Python in order to avoid syntax errors.\n",
    "\n",
    "Generally, you are not allowed to indent without a reason. The next code cell, for example, will produce an *IndentationError* exception when reaching the indented print statement."
   ]
  },
  {
   "cell_type": "code",
   "execution_count": 6,
   "id": "98856b0c-ce64-4fad-be07-cd9404295959",
   "metadata": {},
   "outputs": [
    {
     "ename": "IndentationError",
     "evalue": "unexpected indent (2938149972.py, line 2)",
     "output_type": "error",
     "traceback": [
      "\u001b[0;36m  Cell \u001b[0;32mIn[6], line 2\u001b[0;36m\u001b[0m\n\u001b[0;31m    print(\"Hello World!\")\u001b[0m\n\u001b[0m    ^\u001b[0m\n\u001b[0;31mIndentationError\u001b[0m\u001b[0;31m:\u001b[0m unexpected indent\n"
     ]
    }
   ],
   "source": [
    "print(\"Hello World!\")\n",
    "    print(\"Hello World!\")"
   ]
  },
  {
   "cell_type": "markdown",
   "id": "17b0d3b5-0cb2-4bc3-a26e-b67605460b4f",
   "metadata": {},
   "source": [
    "Also take care to not leave \"invisible\" indentations in your code. They may confuse the Python interpreter (I can not provide an example of that behaviour, since notebooks automatically clean up invisible indentations).\n",
    "\n",
    "However, there are optional indentations you can add in order to make code more readable. Generally, the indentation can be added shorten lines with multiple function arguments by putting the arguments in a separate line. For example, we can split up the arguments from `print` and `format` in the example from earlier."
   ]
  },
  {
   "cell_type": "code",
   "execution_count": 10,
   "id": "bdcfe2b0-a2f3-470a-96b0-e6f4a4b1255b",
   "metadata": {},
   "outputs": [
    {
     "name": "stdout",
     "output_type": "stream",
     "text": [
      "Robot Turtlebot has measured a value of 3.1415 after 100 seconds of operation\n"
     ]
    }
   ],
   "source": [
    "# This cell outputs formatted text about a robot's sensor value\n",
    "print(\n",
    "    \"Robot {} has measured a value of {} after {} seconds of operation\".format(\n",
    "        robotName, value, time\n",
    "    )\n",
    ")"
   ]
  },
  {
   "cell_type": "markdown",
   "id": "73b1c81a-8e91-4585-94c5-cb0b4b777e20",
   "metadata": {},
   "source": [
    "### Package Management <a class=\"anchor\" id=\"pip\"></a>\n",
    "\n",
    "Python libraries can be installed using the package manager [pip](https://pip.pypa.io/en/stable/getting-started/), which is automatically installed alongside Python. Pip allows you to install packages directly from the Python package index by using the `pip` command from the terminal. Python packages can be browsed on [this website](https://pypi.org/), while they can be installed using `pip install <package_name>`.\n",
    "**Please note that you need to use pip from your operating system's terminal and not from within the interactive Python session.**\n",
    "\n",
    "After having installed a package, it can be imported using `import`. For example, after having installed [NumPy](https://numpy.org/) using `pip install numpy`, it can be imported in Python files that utilise NumPy:"
   ]
  },
  {
   "cell_type": "code",
   "execution_count": 12,
   "id": "798e82a6-d235-4dda-ada1-3ce6d74abe1d",
   "metadata": {},
   "outputs": [
    {
     "name": "stdout",
     "output_type": "stream",
     "text": [
      "NumPy version is 1.22.1\n"
     ]
    }
   ],
   "source": [
    "# This cell imports numpy and prints its version\n",
    "import numpy\n",
    "print(\"NumPy version is {}\".format(numpy.version.version))"
   ]
  },
  {
   "cell_type": "markdown",
   "id": "f13a297a-5be6-4d7c-b4ba-a95743dbf7f7",
   "metadata": {},
   "source": [
    "Package names can also be altered during the import using `import ... as ...`. This changes how the package is referenced in your code."
   ]
  },
  {
   "cell_type": "code",
   "execution_count": 13,
   "id": "862d8163-4438-46b8-9246-2e54aa81a263",
   "metadata": {},
   "outputs": [
    {
     "name": "stdout",
     "output_type": "stream",
     "text": [
      "NumPy version is 1.22.1\n"
     ]
    }
   ],
   "source": [
    "# This cell imports numpy and prints its version\n",
    "import numpy as np\n",
    "print(\"NumPy version is {}\".format(np.version.version)) # <- numpy is refered to as np here"
   ]
  },
  {
   "cell_type": "markdown",
   "id": "5cd5d1cf-20e2-48d0-bb28-d8d95831eede",
   "metadata": {},
   "source": [
    "You can also just import parts of a package by using `from ... import ...`. For example, if we want to print NumPy's version, we only need the *version* module."
   ]
  },
  {
   "cell_type": "code",
   "execution_count": 14,
   "id": "20f6b431-0e66-4c11-bf5c-550100a91991",
   "metadata": {},
   "outputs": [
    {
     "name": "stdout",
     "output_type": "stream",
     "text": [
      "NumPy version is 1.22.1\n"
     ]
    }
   ],
   "source": [
    "# This cell imports numpy and prints its version\n",
    "from numpy import version\n",
    "print(\"NumPy version is {}\".format(version.version)) # <- numpy is not referenced here, only its \"version\" module"
   ]
  },
  {
   "cell_type": "markdown",
   "id": "a128b099-d2c1-4f5d-9096-1c30814a7add",
   "metadata": {},
   "source": [
    "### Types <a class=\"anchor\" id=\"types\"></a>\n",
    "\n",
    "As you have probably noticed in earlier examples, variables do not need to be declared explicitly. Instead, Python's automatic typing system will automatically determine a variable's type when you assign it a value. The assigned type depends on the assigned value. The next code cell assigns a string, integer and floating point value and prints out their type using `type(variable)`."
   ]
  },
  {
   "cell_type": "code",
   "execution_count": 27,
   "id": "ba047a30-0393-4eea-b821-51cc5b3e6e44",
   "metadata": {},
   "outputs": [
    {
     "name": "stdout",
     "output_type": "stream",
     "text": [
      "Variable of type <class 'str'> containts the value hello world\n",
      "Variable of type <class 'int'> containts the value 42\n",
      "Variable of type <class 'float'> containts the value 4.2\n"
     ]
    }
   ],
   "source": [
    "# This cell creates variables of type string, integer and float\n",
    "strVal = \"hello world\"\n",
    "intVal = 42\n",
    "floatVal = 4.2\n",
    "print(\"Variable of type {} containts the value {}\".format(type(strVal), strVal))\n",
    "print(\"Variable of type {} containts the value {}\".format(type(intVal), intVal))\n",
    "print(\"Variable of type {} containts the value {}\".format(type(floatVal), floatVal))"
   ]
  },
  {
   "cell_type": "markdown",
   "id": "164ae10f-7714-4716-9bb6-95f1b3b14db8",
   "metadata": {},
   "source": [
    "Floating point values can still be initialised with an integer value by appending .0 to the value."
   ]
  },
  {
   "cell_type": "code",
   "execution_count": 28,
   "id": "b25c2472-c758-48fa-abd5-52b571beb8b8",
   "metadata": {},
   "outputs": [
    {
     "name": "stdout",
     "output_type": "stream",
     "text": [
      "Variable of type <class 'float'> containts the value 0.0\n"
     ]
    }
   ],
   "source": [
    "# This cell creates a float variable and prints its type and content\n",
    "floatVal = 0.0\n",
    "print(\"Variable of type {} containts the value {}\".format(type(floatVal), floatVal))"
   ]
  },
  {
   "cell_type": "markdown",
   "id": "38dc8411-8def-407d-b321-a91c152ea1a3",
   "metadata": {},
   "source": [
    "You can also change an already assigned variable's type on the fly."
   ]
  },
  {
   "cell_type": "code",
   "execution_count": 30,
   "id": "51d156a8-af99-4078-a861-f941be8c3588",
   "metadata": {},
   "outputs": [
    {
     "name": "stdout",
     "output_type": "stream",
     "text": [
      "Variable of type <class 'int'> containts the value 42\n",
      "Variable of type <class 'float'> containts the value 42.0\n",
      "Variable of type <class 'str'> containts the value 42.0\n"
     ]
    }
   ],
   "source": [
    "# This cell creates an integer value and casts it to float and then to string\n",
    "variable = 42\n",
    "print(\"Variable of type {} containts the value {}\".format(type(variable), variable))\n",
    "variable = float(variable)\n",
    "print(\"Variable of type {} containts the value {}\".format(type(variable), variable))\n",
    "variable = str(variable)\n",
    "print(\"Variable of type {} containts the value {}\".format(type(variable), variable))"
   ]
  },
  {
   "cell_type": "markdown",
   "id": "4b06efeb-f449-443d-844c-9a6dd7c2c182",
   "metadata": {},
   "source": [
    "Python has garbage collection, which means, that a variable's memory is automatically released once the variable goes out of scope (e.g. by exiting a function or overwriting the variable). This means, that you can overwrite variables to your heart's content."
   ]
  },
  {
   "cell_type": "code",
   "execution_count": 31,
   "id": "f78dfe6b-91e0-445e-a1f3-6da0874da5fb",
   "metadata": {},
   "outputs": [
    {
     "name": "stdout",
     "output_type": "stream",
     "text": [
      "Variable of type <class 'int'> containts the value 42\n",
      "Variable of type <class 'str'> containts the value hello world\n"
     ]
    }
   ],
   "source": [
    "# This cell creates a variable and overwrites it\n",
    "variable = 42\n",
    "print(\"Variable of type {} containts the value {}\".format(type(variable), variable))\n",
    "variable = \"hello world\"\n",
    "print(\"Variable of type {} containts the value {}\".format(type(variable), variable))"
   ]
  },
  {
   "cell_type": "markdown",
   "id": "fd9955ba-658b-4b0b-9eb8-d443b447fe21",
   "metadata": {},
   "source": [
    "### Conditions <a class=\"anchor\" id=\"if\"></a>\n",
    "\n",
    "Syntax for if-else is straight forward in Python. Blocks are grouped together using indentations."
   ]
  },
  {
   "cell_type": "code",
   "execution_count": 18,
   "id": "3d3fe14e-9bb3-407e-9d70-8101707605c6",
   "metadata": {},
   "outputs": [
    {
     "name": "stdout",
     "output_type": "stream",
     "text": [
      "Value is not 2\n"
     ]
    }
   ],
   "source": [
    "# This cell demonstrates conditions\n",
    "value = 1\n",
    "if value == 2:\n",
    "    print(\"Value is 2\")\n",
    "else:\n",
    "    print(\"Value is not 2\")"
   ]
  },
  {
   "cell_type": "markdown",
   "id": "2a738ea9-6431-45ff-b9b7-7725979d6b89",
   "metadata": {},
   "source": [
    "Conditions can also be chained together using `and` and `or`, while if statements can be chained together using `elif`."
   ]
  },
  {
   "cell_type": "code",
   "execution_count": 20,
   "id": "b4ae15f3-6eb7-4a37-be44-2c779ea41921",
   "metadata": {},
   "outputs": [
    {
     "name": "stdout",
     "output_type": "stream",
     "text": [
      "Value is 3 or 4\n"
     ]
    }
   ],
   "source": [
    "# This cell demonstrates conditions\n",
    "value = 3\n",
    "if value == 2:\n",
    "    print(\"Value is 2\")\n",
    "elif value == 3 or value == 4:\n",
    "    print(\"Value is 3 or 4\")\n",
    "else:\n",
    "    print(\"Value is neither 2, 3 nor 4\")"
   ]
  },
  {
   "cell_type": "markdown",
   "id": "d5b226af-3681-4295-a7ee-b4d259cb1b36",
   "metadata": {},
   "source": [
    "### Lists, Dictionaries, Tuples and Sets <a class=\"anchor\" id=\"iterators\"></a>\n",
    "\n",
    "Python has four built-in types to store collections of data, namely lists, dictionaries, tuples and sets [source for this section](https://www.w3schools.com/python/python_tuples.asp).\n",
    "\n",
    "**Lists**\n",
    "\n",
    "Lists can be created as a collection of items in square values. Lists allow duplicates and are ordered and items can be of arbitrary type. Individual items can be accessed similarly to arrays in C/C++."
   ]
  },
  {
   "cell_type": "code",
   "execution_count": 32,
   "id": "149769d2-ce5f-4082-a080-63a9ebaef8ee",
   "metadata": {},
   "outputs": [
    {
     "name": "stdout",
     "output_type": "stream",
     "text": [
      "['item1', 'item2', 'item3']\n",
      "item2\n"
     ]
    }
   ],
   "source": [
    "# This cell creates an exemplary list and prints the whole list as well as a single item\n",
    "myList = [\"item1\", \"item2\", \"item3\"]\n",
    "print(myList)\n",
    "print(myList[1])"
   ]
  },
  {
   "cell_type": "markdown",
   "id": "81353b69-b5ff-4f62-b09b-71639a917053",
   "metadata": {},
   "source": [
    "Lists can be expanded using their built-in `append` method. The `pop` method removes the last item of the list and returns it."
   ]
  },
  {
   "cell_type": "code",
   "execution_count": 38,
   "id": "b05b02a2-132e-4852-9a4f-ddf4e5ea25f3",
   "metadata": {},
   "outputs": [
    {
     "name": "stdout",
     "output_type": "stream",
     "text": [
      "['item1', 'item2', 'item3']\n",
      "item3\n",
      "['item1', 'item2']\n",
      "['item1', 'item2', 'newItem']\n"
     ]
    }
   ],
   "source": [
    "# This cell demonstrates list operations \"pop\" and \"append\"\n",
    "myList = [\"item1\", \"item2\", \"item3\"]\n",
    "print(myList)\n",
    "\n",
    "# Remove last element using list.pop()\n",
    "lastElement = myList.pop()\n",
    "print(lastElement)\n",
    "print(myList)\n",
    "\n",
    "# Add a new item called \"newItem\" to the end of the list\n",
    "myList.append(\"newItem\")\n",
    "print(myList)"
   ]
  },
  {
   "cell_type": "markdown",
   "id": "60a67f7f-0542-46bb-bc0b-49bb356527f9",
   "metadata": {},
   "source": [
    "We also have the ability to access multiple list entries at once. There are a few ways we can index lists:\n",
    "\n",
    "- [:a] Returns every item until a\n",
    "- [a:] Returns every item including and after a\n",
    "- [a:b] Returns every item between a and b"
   ]
  },
  {
   "cell_type": "code",
   "execution_count": 66,
   "id": "1194f108-b844-4817-a9be-e9d6c31c93e3",
   "metadata": {},
   "outputs": [
    {
     "name": "stdout",
     "output_type": "stream",
     "text": [
      "['item0', 'item1']\n",
      "['item2', 'item3', 'item4', 'item5']\n",
      "['item2', 'item3', 'item4']\n"
     ]
    }
   ],
   "source": [
    "myList = [\"item0\", \"item1\", \"item2\", \"item3\", \"item4\", \"item5\"]\n",
    "print(myList[:2])\n",
    "print(myList[2:])\n",
    "print(myList[2:5])"
   ]
  },
  {
   "cell_type": "markdown",
   "id": "7edf98a2-5521-4c9a-98d5-49314d0baa9e",
   "metadata": {},
   "source": [
    "**Dictionaries**\n",
    "\n",
    "Dictionaries are ordered and changeable collections that store key-value pairs. Each key of a single dictionary needs to be unique. The values can be of arbitrary type. Dictionaries are created using curly brackets."
   ]
  },
  {
   "cell_type": "code",
   "execution_count": 40,
   "id": "78c4401b-3ab9-44fc-b97c-abdde166876f",
   "metadata": {},
   "outputs": [
    {
     "name": "stdout",
     "output_type": "stream",
     "text": [
      "{'name': 'Turtlebot', 'version': 3, 'sensors': ['Laserscan', 'IMU', 'Camera']}\n"
     ]
    }
   ],
   "source": [
    "# This cell creates a dictionary and prints its contents\n",
    "myRobotDict = {\n",
    "    \"name\": \"Turtlebot\",\n",
    "    \"version\": 3,\n",
    "    \"sensors\": [\"Laserscan\", \"IMU\", \"Camera\"]\n",
    "}\n",
    "print(myRobotDict)"
   ]
  },
  {
   "cell_type": "markdown",
   "id": "94fcfb3f-51e6-44a9-abd9-e767e7067de5",
   "metadata": {},
   "source": [
    "Dictionary entries can be accessed in a similar manner to lists, however, instead of an index, we provide the key to refer to which element we want."
   ]
  },
  {
   "cell_type": "code",
   "execution_count": 41,
   "id": "c824c723-c96a-403b-89df-35f292f82965",
   "metadata": {},
   "outputs": [
    {
     "name": "stdout",
     "output_type": "stream",
     "text": [
      "Our Turtlebot3 robot features the following sensors: ['Laserscan', 'IMU', 'Camera']\n"
     ]
    }
   ],
   "source": [
    "# This cell demonstrates how to access a dictionary's entry\n",
    "myRobotDict = {\n",
    "    \"name\": \"Turtlebot\",\n",
    "    \"version\": 3,\n",
    "    \"sensors\": [\"Laserscan\", \"IMU\", \"Camera\"]\n",
    "}\n",
    "print(\"Our {}{} robot features the following sensors: {}\".format(myRobotDict[\"name\"], myRobotDict[\"version\"], myRobotDict[\"sensors\"]))"
   ]
  },
  {
   "cell_type": "markdown",
   "id": "7d5df2f4-208e-4597-9e90-4fa705fc576f",
   "metadata": {},
   "source": [
    "**Tuples**\n",
    "\n",
    "Tuples are unchangeable ordered combinations of items. Duplicate values are allowed. We can create tuples using round brackets and access items in them like in lists based on item index. "
   ]
  },
  {
   "cell_type": "code",
   "execution_count": 42,
   "id": "f889c647-15ac-460f-83b4-56c5d25ec02f",
   "metadata": {},
   "outputs": [
    {
     "name": "stdout",
     "output_type": "stream",
     "text": [
      "('hello', 'world')\n",
      "hello\n"
     ]
    }
   ],
   "source": [
    "# This cell creates a tuple and accesses an item within it\n",
    "myTuple = (\"hello\", \"world\")\n",
    "print(myTuple)\n",
    "print(myTuple[0])"
   ]
  },
  {
   "cell_type": "markdown",
   "id": "6a553c2c-9e00-425d-9450-fe64e915f115",
   "metadata": {},
   "source": [
    "Tuples can be directly unpacked. This means, that we can turn a tuple containing two values into two variables containing only onle value each."
   ]
  },
  {
   "cell_type": "code",
   "execution_count": 69,
   "id": "f11ef6b8-b15b-43da-851c-f607b22c701c",
   "metadata": {},
   "outputs": [
    {
     "name": "stdout",
     "output_type": "stream",
     "text": [
      "First value is: item1\n",
      "Second value is: item2\n"
     ]
    }
   ],
   "source": [
    "# This cell demonstrates item unpacking\n",
    "myTuple = (\"item1\", \"item2\")\n",
    "a, b = myTuple\n",
    "print(\"First value is: {}\".format(a))\n",
    "print(\"Second value is: {}\".format(b))"
   ]
  },
  {
   "cell_type": "markdown",
   "id": "7963c072-252b-49a3-818c-4c47a3ea88cb",
   "metadata": {},
   "source": [
    "**Sets**\n",
    "\n",
    "Sets are unordered collections of items. Items, once addded to a set, are unchangeable, however, items can be dynamically removed or added. Sets are instantiated in a similar manner to tuples, but with curly brackets instead of round brackets.\n",
    "\n",
    "Individual items of a set can not be printed, since the set is unordered. This also causes order of the set to be different each time we access it."
   ]
  },
  {
   "cell_type": "code",
   "execution_count": 48,
   "id": "7e0d5b3d-179b-405e-a7e5-bcd5b4364e8f",
   "metadata": {},
   "outputs": [
    {
     "name": "stdout",
     "output_type": "stream",
     "text": [
      "{'item2', 'item4', 'item5', 'item3', 'item1'}\n"
     ]
    }
   ],
   "source": [
    "# This cell creates a set and accesses an item within it\n",
    "mySet = {\"item1\", \"item2\", \"item3\", \"item4\", \"item5\"}\n",
    "print(mySet)"
   ]
  },
  {
   "cell_type": "markdown",
   "id": "f556990e-a90c-4513-9a49-66df89ab9251",
   "metadata": {},
   "source": [
    "**Length of Collection**\n",
    "\n",
    "You can use `len()` on lists, tuples and sets to return the number of entries in the collection."
   ]
  },
  {
   "cell_type": "code",
   "execution_count": 52,
   "id": "49d0251a-5dad-4f90-9276-6c66978f8905",
   "metadata": {},
   "outputs": [
    {
     "name": "stdout",
     "output_type": "stream",
     "text": [
      "3\n",
      "2\n",
      "5\n"
     ]
    }
   ],
   "source": [
    "# This cell demonstrates how to use len() on lists, tuples and sets\n",
    "# List\n",
    "print(len([\"item1\", \"item2\", \"item3\"]))\n",
    "\n",
    "# Tuple\n",
    "print(len((\"hello\", \"world\")))\n",
    "\n",
    "# Set\n",
    "print(len({\"item1\", \"item2\", \"item3\", \"item4\", \"item5\"}))"
   ]
  },
  {
   "cell_type": "markdown",
   "id": "2961b38a-25f5-4541-9fac-1640be9d9538",
   "metadata": {},
   "source": [
    "### Loops <a class=\"anchor\" id=\"loops\"></a>\n",
    "\n",
    "Loops in python are either done using `while <condition>` or iterating over a collection using `for <item> in <collection>`.\n",
    "\n",
    "**While Loops**\n",
    "\n",
    "While loops are defined through a condition that is checked with the start of each iteration. If the condition is met, then everything in the loop is executed once and another check is initiated. If the condition is not met, then the loop is skipped. Similarly to conditions, indentations indicate what statements belong within the loop.\n",
    "\n",
    "The following example implements a while loop of predetermined lenght. However, you really only should use while loops, if you do not now the number of required iteration when the loop starts. This approach is pretty unsafe, since omitting `i += 0` would cause the loop to execute until the notebook kernel runs out of memory and crashes."
   ]
  },
  {
   "cell_type": "code",
   "execution_count": 55,
   "id": "8f4ebd87-10e6-4614-acfb-a11a6d5bffef",
   "metadata": {},
   "outputs": [
    {
     "name": "stdout",
     "output_type": "stream",
     "text": [
      "0\n",
      "1\n",
      "2\n",
      "3\n",
      "4\n",
      "5\n",
      "Successfully exited the loop\n"
     ]
    }
   ],
   "source": [
    "# This cell demonstrates a while loop of a predetermined length\n",
    "i = 0\n",
    "\n",
    "while i <= 5:\n",
    "    print(i)\n",
    "    i += 1\n",
    "\n",
    "print(\"Successfully exited the loop\")"
   ]
  },
  {
   "cell_type": "markdown",
   "id": "85c0db69-68f2-4f15-8a10-d1aedd3a8122",
   "metadata": {},
   "source": [
    "**For Loops**\n",
    "\n",
    "For loops in Python use iterators, such as lists. The most basic syntax for such a loop of predetermined length is shown below. It is the same example as before, however, the for loop syntax makes the code shorter and more safe, since we avoid possible infinite loops. The variable i is initialised at 0 and incremented each step until we reach the maximum number of iterations."
   ]
  },
  {
   "cell_type": "code",
   "execution_count": 56,
   "id": "f57ab534-321f-4a0e-b3a9-a2b32df28bb7",
   "metadata": {},
   "outputs": [
    {
     "name": "stdout",
     "output_type": "stream",
     "text": [
      "0\n",
      "1\n",
      "2\n",
      "3\n",
      "4\n",
      "Successfully exited the loop\n"
     ]
    }
   ],
   "source": [
    "# This cell implements a for loop \n",
    "for i in range(5):\n",
    "    print(i)\n",
    "    \n",
    "print(\"Successfully exited the loop\") "
   ]
  },
  {
   "cell_type": "markdown",
   "id": "f34b2830-523e-4a07-ad9c-6a570e326d14",
   "metadata": {},
   "source": [
    "Please note how we do not need to manually initialise the variable i in this example. In the background, the for loop creates a list spaning from 0 to 4 and sets i to the current item in the list each iteration. We can examine functionality of the `range()` function as seen in the cell below by constructing a list from the range object. This list shows every value the variable i is set to during iteration."
   ]
  },
  {
   "cell_type": "code",
   "execution_count": 60,
   "id": "63040794-4ffb-4f06-9a2d-6fad92a83fdc",
   "metadata": {},
   "outputs": [
    {
     "name": "stdout",
     "output_type": "stream",
     "text": [
      "[0, 1, 2, 3, 4]\n"
     ]
    }
   ],
   "source": [
    "# This cell shows how ranges work similarly to lists\n",
    "print(list(range(5)))"
   ]
  },
  {
   "cell_type": "markdown",
   "id": "0b233faf-1a6f-4ae3-b598-991d4e9e285f",
   "metadata": {},
   "source": [
    "This means that we can also iterate over any list using a for loop."
   ]
  },
  {
   "cell_type": "code",
   "execution_count": 67,
   "id": "1945aa86-95d0-4dcd-ab9a-d73bed161315",
   "metadata": {},
   "outputs": [
    {
     "name": "stdout",
     "output_type": "stream",
     "text": [
      "item0\n",
      "item1\n",
      "item2\n"
     ]
    }
   ],
   "source": [
    "# This cell shows iteration over a list\n",
    "myList = [\"item0\", \"item1\", \"item2\"]\n",
    "\n",
    "for entry in myList:\n",
    "    print(entry)"
   ]
  },
  {
   "cell_type": "markdown",
   "id": "3e3bce1b-20e4-46d1-8954-c3b656aff7a4",
   "metadata": {},
   "source": [
    "We can even go further and iterate over two lists simultaneously. This achieved using the `zip` function, which returns a tuple of corresponding entries from both lists. These entries can then be unpacked into two variables.\n",
    "\n",
    "If the lists are not of the same length, then the iteration will abort when the end of the shorter list is reached."
   ]
  },
  {
   "cell_type": "code",
   "execution_count": 71,
   "id": "c58adab4-4e7c-4ef0-8827-88e59db427e1",
   "metadata": {},
   "outputs": [
    {
     "name": "stdout",
     "output_type": "stream",
     "text": [
      "Current entries from first and second lists are item0 and thing0\n",
      "Current entries from first and second lists are item1 and thing1\n",
      "Current entries from first and second lists are item2 and thing2\n"
     ]
    }
   ],
   "source": [
    "# This cell shows how to use zip()\n",
    "\n",
    "list1 = [\"item0\", \"item1\", \"item2\"]\n",
    "list2 = [\"thing0\", \"thing1\", \"thing2\"]\n",
    "\n",
    "for entry1, entry2 in zip(list1, list2):\n",
    "    print(\"Current entries from first and second lists are {} and {}\".format(entry1, entry2))"
   ]
  },
  {
   "cell_type": "markdown",
   "id": "3b95a448-bde0-4583-ada2-bcb5c451c4dc",
   "metadata": {},
   "source": [
    "The same principle can be used to add in index when iterating over a list using the `enumerate` function. This function returns a tuple of (index, item), which can be unpacked similarly to the last example."
   ]
  },
  {
   "cell_type": "code",
   "execution_count": 72,
   "id": "ee0d25ae-a283-4d8d-a79b-76c3229786e4",
   "metadata": {},
   "outputs": [
    {
     "name": "stdout",
     "output_type": "stream",
     "text": [
      "Entry item0 is present in list at position 0\n",
      "Entry item1 is present in list at position 1\n",
      "Entry item2 is present in list at position 2\n"
     ]
    }
   ],
   "source": [
    "# This cell shows iteration over a list\n",
    "myList = [\"item0\", \"item1\", \"item2\"]\n",
    "\n",
    "for index, entry in enumerate(myList):\n",
    "    print(\"Entry {} is present in list at position {}\".format(entry, index))"
   ]
  },
  {
   "cell_type": "code",
   "execution_count": null,
   "id": "f46a18eb-3c4d-4949-ad63-16b11b95c42a",
   "metadata": {},
   "outputs": [],
   "source": []
  },
  {
   "cell_type": "code",
   "execution_count": null,
   "id": "3a8c65fc-40bd-4ceb-9781-d2208925c8cd",
   "metadata": {},
   "outputs": [],
   "source": []
  },
  {
   "cell_type": "code",
   "execution_count": null,
   "id": "87c3c17b-333f-4a83-bbec-4b65ff522727",
   "metadata": {},
   "outputs": [],
   "source": []
  },
  {
   "cell_type": "code",
   "execution_count": null,
   "id": "d250f720-bc58-475d-9ecd-5be167d8e0b9",
   "metadata": {},
   "outputs": [],
   "source": []
  },
  {
   "cell_type": "markdown",
   "id": "71eeac55-ae59-426f-8fc7-69aa3bf0a26e",
   "metadata": {},
   "source": [
    "**Exercise:**"
   ]
  },
  {
   "cell_type": "code",
   "execution_count": null,
   "id": "5dbc2071-0f26-4384-aac7-76077a897d34",
   "metadata": {
    "tags": [
     "hide_input"
    ]
   },
   "outputs": [],
   "source": [
    "from IPython.widgets import widgets\n",
    "import ipywidgets as widgets\n",
    "\n",
    "button = widgets.Button(description=\"Evaluate Result\")\n",
    "\n",
    "\n",
    "\n",
    "numWidget = widgets.IntText(\n",
    "    description='Enter the print function:',\n",
    "    disabled=False\n",
    ")\n",
    "\n",
    "\n"
   ]
  },
  {
   "cell_type": "markdown",
   "id": "e089bcfd-b710-435f-bb7f-39ed462da10c",
   "metadata": {},
   "source": [
    "\n",
    "\n",
    "\n",
    "\n",
    "\n",
    "\n",
    "\n",
    "\n",
    "\n",
    "\n",
    "\n",
    "\n",
    "## NumPy <a class=\"anchor\" id=\"numpy\"></a>\n",
    "\n",
    "### Array Initialisation\n",
    "\n",
    "### Array Manipulation\n",
    "\n",
    "\n",
    "\n",
    "\n",
    "\n",
    "## Data Visualisation <a class=\"anchor\" id=\"data-visualisation\"></a>\n",
    "\n",
    "### Lineplot\n",
    "\n",
    "### Scatterplot\n",
    "\n",
    "### Custom Colours\n",
    "\n",
    "\n",
    "\n",
    "## Data Manipulation <a class=\"anchor\" id=\"data-manipulation\"></a>\n",
    "\n",
    "### Scikit Learn\n",
    "\n",
    "### OpenCV\n",
    "\n",
    "\n",
    "\n",
    "\n",
    "Check notebook output\n",
    "https://stackoverflow.com/questions/27952428/programmatically-get-current-ipython-notebook-cell-output\n",
    "\n",
    "Host on binder\n",
    "https://mybinder.org/\n",
    "\n",
    "Jupyter dashboards for nice ui with interactive stuff\n",
    "https://jupyter-dashboards-layout.readthedocs.io/en/latest/getting-started.html#installing-and-enabling\n",
    "\n",
    "interactivity stack overflow post\n",
    "https://stackoverflow.com/questions/41672566/how-to-have-interactivity-of-jupyter-notebooks-online\n",
    "\n",
    "autorun certain cells\n",
    "https://discourse.jupyter.org/t/autorun-some-code-cells-jupyterlab3/8737\n",
    "\n"
   ]
  }
 ],
 "metadata": {
  "kernelspec": {
   "display_name": "Python 3 (ipykernel)",
   "language": "python",
   "name": "python3"
  },
  "language_info": {
   "codemirror_mode": {
    "name": "ipython",
    "version": 3
   },
   "file_extension": ".py",
   "mimetype": "text/x-python",
   "name": "python",
   "nbconvert_exporter": "python",
   "pygments_lexer": "ipython3",
   "version": "3.8.10"
  }
 },
 "nbformat": 4,
 "nbformat_minor": 5
}
