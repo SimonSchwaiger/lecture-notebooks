{
 "cells": [
  {
   "cell_type": "markdown",
   "id": "661cf802-2e6a-4e7e-a8ae-26e536b2fd4d",
   "metadata": {},
   "source": [
    "# Interfacing Python with ROS (ROS 1)\n",
    "\n",
    "This Jupyter notebook presents essential interfacing between Python and the Robot Operating System (ROS). The sections are based on [ROS Wiki's ROS Tutorial](https://wiki.ros.org/ROS/Tutorials), however, only ROS messages and basic command line tools are discussed in the context of using them with Jupyter Notebooks.\n",
    "\n",
    "**If you need a more detailed breakdown of a certain ROS feature, please refer to the [full ROS Tutorial](https://wiki.ros.org/ROS/Tutorials)**.\n",
    "\n",
    "In order to execute the cells presented in this notebook, ROS and a [Jupyter notebook interface](https://jupyter.org/) must be installed alongside each other. Refer to [this repo](https://github.com/SimonSchwaiger/ros-ml-container) if you have trouble setting that up yourself.\n",
    "\n",
    "# Table of Concents\n",
    "* [**ROS Command Line Tools**](#roscmd)\n",
    "* [**ROS Python interfacing**](#interfacing)\n",
    "    - [**Rospy import and ROS node initialisation**](#rospyinit)\n",
    "    - [**Handling of ROS data types**](#datatypehandling)\n",
    "    - [**Basic publisher**](#publisher)\n",
    "    - [**Basic subscriber**](#subscriber)\n",
    "* [**Essential ROS message types**](#messagetypes)\n",
    "\n",
    "## ROS Command Line Tools <a class=\"anchor\" id=\"roscmd\"></a>\n",
    "\n",
    "In order to test our interface with ROS, ROS command line tools will be used to introspect ROS nodes and send/receive messages. The following command line tools are required for this notebook\n",
    "\n",
    "* **`roscore`**: starts ROS 1. In ROS 1, roscore must be active in the background if you want to use any ROS features.\n",
    "\n",
    "* **`rosnode`**: manages and inspects ROS nodes. Nodes are individual processes in ROS.\n",
    "   - `rosnode list`: Lists all currently active nodes\n",
    "   - `rosnode info /node_name`: Displays information about a specific node\n",
    "\n",
    "* **`rostopic`**: interacts with ROS topics. Topics are message-passing channels in ROS.\n",
    "   - `rostopic list`: Lists all available topics\n",
    "   - `rostopic echo /topic_name`: Prints the messages being published on a topic\n",
    "   - `rostopic pub /topic_name [msg_type] [args]`: Publishes a message on a topic from the command line\n",
    "\n",
    "### ROS command line hello world\n",
    "\n",
    "1. Open a terminal and start ROS using the `roscore` command\n",
    "2. Open a second terminal and check running nodes using `rosnode list` and active topics using `rostopic list`. Since no ROS nodes have been started yet, nothing apart from rosout should be shown.\n",
    "3. Monitor the `/hello_world` topic by using `rostopic echo /hello_world`.\n",
    "4. Open another terminal and use `rostopic pub /hello_world std_msgs/String \"data: 'Hello from terminal 3'\" -1` to send a message to the second terminal through ROS. `std_msgs/String` denotes the ROS datatype, while `\"data: 'Hello from terminal 3!'\"` sets the message and `-1` causes the message to be sent only once.\n",
    "5. Stop all terminals using `Ctrl+C` in each terminal\n",
    "\n",
    "These command line tools will help us test the functionality of the Python code examples used throughout this notebook.\n",
    "\n",
    "## ROS Python interfacing <a class=\"anchor\" id=\"interfacing\"></a>\n",
    "\n",
    "### Rospy import and ROS node initialisation <a class=\"anchor\" id=\"rospyinit\"></a>\n",
    "\n",
    "To enable any interaction in ROS, the `rospy` module needs to be imported and initialised. The node name is provided as an argument to the initialisation function. Since ROS is natively compatible with Python, a Jupyter notebook can interact with ROS as a standard ROS node. Once initialized, the node is active and can publish/subscribe to topics, provide/consume services, and interact with the ROS ecosystem. We can only initialise one node per notebook, since all notebook cells share a common Python kernel. Furthermore, each node name in a ROS system must be unique."
   ]
  },
  {
   "cell_type": "code",
   "execution_count": 1,
   "id": "9bf80918-8116-4860-9c67-a92f46ed32b7",
   "metadata": {},
   "outputs": [],
   "source": [
    "import rospy\n",
    "\n",
    "rospy.init_node(\"my_first_robot_node\")"
   ]
  },
  {
   "cell_type": "markdown",
   "id": "9f4b7d4b-2b4b-4083-90fe-ad7de1ead990",
   "metadata": {},
   "source": [
    "To test the code, first make sure that a terminal with `roscore` is running in the background. Now, run the code cell above. You should now see your node when checking the output of `rosnode list` in another terminal.\n",
    "\n",
    "_**Note:** The notebook's Python kernel stays active in the background, even if no code cells are currently running. If you restart your roscore after having initialised a node, you need to restart your notebook's Python kernel and reinitialise your node in order to connect to the new roscore. This is done in JupyterLab by clicking on \"Kernel\" in the top bar and then selecting \"Restart Kernel...\"._\n",
    "\n",
    "### Handling of ROS data types <a class=\"anchor\" id=\"datatypehandling\"></a>\n",
    "\n",
    "ROS defines its own message types tailored to various robotics tasks. These data structures are different from Python's message types (Python String $\\neq$ ROS String). They are organised in packages and need to be imported individually. For the remainder of this tutorial, we will use ROS' String message from the std_msgs (= standard messages) package. Documentation this datatype [(link)](https://docs.ros.org/en/noetic/api/std_msgs/html/msg/String.html) tells us, that ROS String messages consist of just one field called *data*, which can store text."
   ]
  },
  {
   "cell_type": "code",
   "execution_count": 2,
   "id": "363249a3-228d-4ab0-be16-cf6530a7a39f",
   "metadata": {},
   "outputs": [
    {
     "name": "stdout",
     "output_type": "stream",
     "text": [
      "data: \"Hello, ROS!\"\n"
     ]
    }
   ],
   "source": [
    "# Import the message. Replace std_msgs.msg if a message is part of a different package such as geometry_msgs.\n",
    "from std_msgs.msg import String\n",
    "\n",
    "# Instantiate empty message\n",
    "msg = String()\n",
    "# Fill message with data\n",
    "msg.data = \"Hello, ROS!\"\n",
    "\n",
    "print(msg)"
   ]
  },
  {
   "cell_type": "markdown",
   "id": "4b7fd77b-6943-4302-b86b-5412cf2e87c6",
   "metadata": {},
   "source": [
    "Alternatively, the data field can be directly populated when instantiating the message using keyword arguments. The accepted keyword arguments depend on what fields a ROS message type contains."
   ]
  },
  {
   "cell_type": "code",
   "execution_count": 3,
   "id": "4396ccf3-ff26-47e9-904a-1bd3f2f55cd0",
   "metadata": {},
   "outputs": [
    {
     "name": "stdout",
     "output_type": "stream",
     "text": [
      "data: \"Hello, ROS! (but short)\"\n"
     ]
    }
   ],
   "source": [
    "msg2 = String(data=\"Hello, ROS! (but short)\")\n",
    "\n",
    "print(msg2)"
   ]
  },
  {
   "cell_type": "markdown",
   "id": "29c1ab41-6220-4e96-a9e5-87832df4e31b",
   "metadata": {},
   "source": [
    "### Basic publisher <a class=\"anchor\" id=\"publisher\"></a>\n",
    "\n",
    "A publisher is a ROS node that sends data to a topic. After node initialisation, a publisher object can be instantiated. When creating the publisher, a topic, message type and queue_size arguments have to be provided. Topic is is the name of the used ROS topic, message type the used ROS datatype and queue_size denotes how many messages are buffered when sending messages faster than ROS can process. You need a separate publsher for each topic you want to send data to and the first registered publisher on a new topic determines the topic's message type. A publisher instance can be reused an unlimited number of times to send new messages to a topic."
   ]
  },
  {
   "cell_type": "code",
   "execution_count": 4,
   "id": "a094c142-4d52-4e02-a7f4-d9aa4ef0abf5",
   "metadata": {},
   "outputs": [],
   "source": [
    "from std_msgs.msg import String\n",
    "\n",
    "# Define message\n",
    "msg = String(data=\"Hello, ROS!\")\n",
    "\n",
    "# Create publisher\n",
    "pub = rospy.Publisher('/greetings', String, queue_size=1)\n",
    "\n",
    "# Send message\n",
    "pub.publish(msg)"
   ]
  },
  {
   "cell_type": "markdown",
   "id": "4d92c92e-2094-42ca-8720-fee931fb246e",
   "metadata": {},
   "source": [
    "To test the code, make sure that a roscore is running and that a node has been registered in this notebook's kernel by running the *init_node* method once. Afterwards, open a second terminal and use the `rostopic echo /greetings` command to monitor the topic this code example sends a message to. Finally, execute the code cell.\n",
    "\n",
    "### Basic subscriber <a class=\"anchor\" id=\"subscriber\"></a>\n",
    "\n",
    "A subscriber is a ROS node that listens to data from a topic. Setup is similar to the publisher, however, a callback function needs to be provided. This function is executed in the background every time a message is received on the subscribed topic. In this example, we use a very simple class to store the latest received message."
   ]
  },
  {
   "cell_type": "code",
   "execution_count": 27,
   "id": "e83304fa-d010-4cbd-a515-363f93478b85",
   "metadata": {},
   "outputs": [],
   "source": [
    "from std_msgs.msg import String\n",
    "\n",
    "class store_latest_msg:\n",
    "    def __init__(self):\n",
    "        # Connect the subscriber to the topic and callback\n",
    "        self.sub = rospy.Subscriber('/greetings', String, self.callback)\n",
    "        self.msg = None\n",
    "\n",
    "    # Define callback that stores the latest mesage\n",
    "    def callback(self, msg):\n",
    "        self.msg = msg.data\n",
    "\n",
    "sub = store_latest_msg()"
   ]
  },
  {
   "cell_type": "markdown",
   "id": "692c2d89-8e69-42f0-9896-bbaeddcf35f1",
   "metadata": {},
   "source": [
    "To test this code, make sure that a roscore is running and that a node has been registered in this notebook's kernel. Afterwards, run the code cell. You can then send messages to the */greetings* topic by executing the example code in *Basic publisher* or running `rostopic pub /greetings std_msgs/String \"data: 'Hello from the terminal'\" -1`.\n",
    "\n",
    "Finally, the stored message can be printed."
   ]
  },
  {
   "cell_type": "code",
   "execution_count": 28,
   "id": "1fbbd7ba-6ee1-4005-91f3-6e0afa521011",
   "metadata": {},
   "outputs": [
    {
     "name": "stdout",
     "output_type": "stream",
     "text": [
      "Hello from the terminal\n"
     ]
    }
   ],
   "source": [
    "print(sub.msg)"
   ]
  },
  {
   "cell_type": "markdown",
   "id": "81e6e691-e822-40d6-984b-53754b83d515",
   "metadata": {},
   "source": [
    "## Essential ROS message types <a class=\"anchor\" id=\"messagetypes\"></a>\n",
    "\n",
    "This list provides a brief overview of ROS message types required for basic mobile robot applications. Please refer to the ROS message documentation [(link)](https://docs.ros.org/en/noetic/api/) for a detailed breakdown of fields included in these message types.\n",
    "\n",
    "* **geometry_msgs/Twist [(documentation link)](https://docs.ros.org/en/melodic/api/geometry_msgs/html/msg/Twist.html)**\n",
    "\n",
    "    Represents velocity in free space (linear and angular). When working with non-holonomic 2D mobile robots, linear velocity in x (forward-backward movement) and angular velocity in z (steering) are the only two values of interest.\n",
    "\n",
    "    ```python\n",
    "    from geometry_msgs.msg import Twist\n",
    "   \n",
    "    twist = Twist()\n",
    "    twist.linear.x = 0.5  # Move forward at 0.5 m/s\n",
    "    twist.angular.z = 0.1 # Rotate at 0.1 rad/s\n",
    "     \n",
    "    ```\n",
    "\n",
    "* **sensor_msgs/LaserScan [(documentation link)](https://docs.ros.org/en/noetic/api/sensor_msgs/html/msg/LaserScan.html)**\n",
    "\n",
    "    Contains data from a laser range-finder, used in navigation and obstacle detection.\n",
    "\n",
    "    ```python\n",
    "    from sensor_msgs.msg import LaserScan\n",
    "\n",
    "    scan = LaserScan()\n",
    "    scan.ranges    # List of measured distances\n",
    "    scan.angle_min # Starting angle of measurement\n",
    "    scan.angle_max # Last angle of measurement\n",
    "     \n",
    "   ```\n",
    "\n",
    "* **nav_msgs/Odometry [(documentation link)](https://docs.ros.org/en/noetic/api/nav_msgs/html/msg/Odometry.html)**\n",
    "\n",
    "    Provides robot odometry information, which includes position and velocity. This is one of the more complex datatypes. Along the robot pose it also includes a header denoting the measurement's reference coordinate system (frame_id) and timestamp as well as covariance matrices for the pose denoting uncertainty in the measurements.\n",
    "\n",
    "    ```python\n",
    "    from nav_msgs.msg import Odometry\n",
    "\n",
    "    odom = Odometry()\n",
    "    odom.header.frame_id # Reference coordinate system/frame\n",
    "    odom.heater.stamp    # Timestamp of measurement\n",
    "    odom.pose.pose       # Pose\n",
    "\n",
    "    ```\n"
   ]
  },
  {
   "cell_type": "code",
   "execution_count": null,
   "id": "c4609736-d137-4e52-ae9e-dfed0412e833",
   "metadata": {},
   "outputs": [],
   "source": []
  }
 ],
 "metadata": {
  "kernelspec": {
   "display_name": "Python 3 (ipykernel)",
   "language": "python",
   "name": "python3"
  },
  "language_info": {
   "codemirror_mode": {
    "name": "ipython",
    "version": 3
   },
   "file_extension": ".py",
   "mimetype": "text/x-python",
   "name": "python",
   "nbconvert_exporter": "python",
   "pygments_lexer": "ipython3",
   "version": "3.8.10"
  }
 },
 "nbformat": 4,
 "nbformat_minor": 5
}
